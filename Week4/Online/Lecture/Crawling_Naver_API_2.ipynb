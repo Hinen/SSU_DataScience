{
  "nbformat": 4,
  "nbformat_minor": 0,
  "metadata": {
    "colab": {
      "name": "Crawling_API_2.ipynb",
      "provenance": [],
      "collapsed_sections": [],
      "toc_visible": true
    },
    "kernelspec": {
      "name": "python3",
      "display_name": "Python 3"
    },
    "language_info": {
      "name": "python"
    }
  },
  "cells": [
    {
      "cell_type": "markdown",
      "source": [
        "## **네이버 API를 이용한 크롤링 - 함수**"
      ],
      "metadata": {
        "id": "f91PCnjbd7vg"
      }
    },
    {
      "cell_type": "markdown",
      "source": [
        "*   create_url(): url 값\n",
        "*   get_dataframe(): DataFrame 결과\n",
        "*   get_naversearch(): 100개 이상을 한번에 크롤링"
      ],
      "metadata": {
        "id": "gwSLR7tJ2wz2"
      }
    },
    {
      "cell_type": "code",
      "source": [
        "import urllib.request\n",
        "import json\n",
        "import pandas as pd\n",
        "\n",
        "client_id = \"NF2TCAQqqHTA4odGbBEu\"\n",
        "client_secret = \"9iDDbfErDj\""
      ],
      "metadata": {
        "id": "d5kFYN0xlnRN"
      },
      "execution_count": null,
      "outputs": []
    },
    {
      "cell_type": "code",
      "source": [
        "\"\"\"encText = urllib.parse.quote(\"파이썬\")\n",
        "url = \"https://openapi.naver.com/v1/search/book.json?query=\" + encText + \"&start=2&display=3\" # json 결과\n",
        "# url = \"https://openapi.naver.com/v1/search/blog.xml?query=\" + encText # xml 결과\n",
        "\n",
        "req = urllib.request.Request(url)\n",
        "req.add_header(\"X-Naver-Client-Id\",client_id)\n",
        "req.add_header(\"X-Naver-Client-Secret\",client_secret)\n",
        "response = urllib.request.urlopen(req)\n",
        "rescode = response.getcode()\n",
        "if(rescode==200):\n",
        "    response_body = response.read()\n",
        "    results = response_body.decode('utf-8')\n",
        "else:\n",
        "    print(\"Error Code:\" + rescode)\"\"\""
      ],
      "metadata": {
        "id": "4djg7aHaE2GT"
      },
      "execution_count": null,
      "outputs": []
    },
    {
      "cell_type": "code",
      "source": [
        "#result = json.loads(results)\n",
        "#result"
      ],
      "metadata": {
        "id": "FnUNFqrfnHLR",
        "colab": {
          "base_uri": "https://localhost:8080/"
        },
        "outputId": "5afd9707-c082-4746-c103-ecbc70005143"
      },
      "execution_count": null,
      "outputs": [
        {
          "output_type": "execute_result",
          "data": {
            "text/plain": [
              "{'display': 3,\n",
              " 'items': [{'author': '나동빈',\n",
              "   'description': '8가지 핵심 알고리즘 이론을 쉽게 설명하고, 관련 실전 문제를 풀이했다. 출제 유형 분석, 이론 설명, 기출문제 풀이까지! 어떤 코딩 테스트도 이 책 한 권으로 대비할 수 있을 것이다. 코딩 테스트에서 주로 선택하는 <b>파이썬</b>을 기반으로 설명되어 있으며, <b>파이썬</b> 코드 외에도 C/C++, 자바 코드를 추가로 제공한다.',\n",
              "   'discount': '30600',\n",
              "   'image': 'https://bookthumb-phinf.pstatic.net/cover/164/391/16439154.jpg?type=m1&udate=20200928',\n",
              "   'isbn': '1162243074 9791162243077',\n",
              "   'link': 'http://book.naver.com/bookdb/book_detail.php?bid=16439154',\n",
              "   'price': '34000',\n",
              "   'pubdate': '20200805',\n",
              "   'publisher': '한빛미디어',\n",
              "   'title': '이것이 취업을 위한 코딩 테스트다 with <b>파이썬</b> (취업과 이직을 결정하는 알고리즘 인터뷰 완벽 가이드)'},\n",
              "  {'author': '박응용',\n",
              "   'description': '<b>파이썬</b> 4년 연속 베스트셀러 1위!\\n《DO IT! 점프 투 <b>파이썬</b>》 전면 개정판 출시!문과생도 중고등학생도 직장인도 프로그래밍에 눈뜨게 만든 바로 그 책이... 점프 투 <b>파이썬</b>》으로 출간되었던 이 책은 약 4년 동안의 피드백을 반영하여 초보자가 더 빠르게 입문하고, 더 깊이 있게 공부할 수 있도록 개정되었다.... ',\n",
              "   'discount': '16920',\n",
              "   'image': 'https://bookthumb-phinf.pstatic.net/cover/150/529/15052904.jpg?type=m1&udate=20200910',\n",
              "   'isbn': '1163030910 9791163030911',\n",
              "   'link': 'http://book.naver.com/bookdb/book_detail.php?bid=15052904',\n",
              "   'price': '18800',\n",
              "   'pubdate': '20190620',\n",
              "   'publisher': '이지스퍼블리싱',\n",
              "   'title': 'Do it! 점프 투 <b>파이썬</b>'},\n",
              "  {'author': '윤인성',\n",
              "   'description': '1:1 과외하듯 배우는 <b>파이썬</b> 프로그래밍 자습서(<b>파이썬</b> 최신 버전 반영)\\n27명의 베타리더 검증으로, ‘함께 만든’ 입문자 맞춤형 도서\\n\\n이 책은 독학으로 프로그래밍 언어를 처음 배우려는 입문자가, 혹은 <b>파이썬</b>을 배우려는 입문자가 ‘꼭 필요한 내용을 제대로’ 학습할 수 있도록 구성했다. ‘무엇을’... ',\n",
              "   'discount': '16200',\n",
              "   'image': 'https://bookthumb-phinf.pstatic.net/cover/150/286/15028688.jpg?type=m1&udate=20220129',\n",
              "   'isbn': '1162241888 9791162241882',\n",
              "   'link': 'http://book.naver.com/bookdb/book_detail.php?bid=15028688',\n",
              "   'price': '18000',\n",
              "   'pubdate': '20190610',\n",
              "   'publisher': '한빛미디어',\n",
              "   'title': '혼자 공부하는 <b>파이썬</b> (<b>파이썬</b> 최신 버전 반영)'}],\n",
              " 'lastBuildDate': 'Tue, 22 Mar 2022 10:01:31 +0900',\n",
              " 'start': 2,\n",
              " 'total': 1535}"
            ]
          },
          "metadata": {},
          "execution_count": 56
        }
      ]
    },
    {
      "cell_type": "markdown",
      "source": [
        "**1) 사용자 정의 함수 : create_url()**\n",
        "1.   parameter 값 정의: search_type, search_text, start_num, display_num\n",
        "2.   return 값 정의 : \"https://openapi.naver.com/v1/search/\" + \"book\"+\".json?query=\" + \"encText\" + \"&start=\"+\"1\"+\"&display=\"+\"3\"\n",
        "3.   함수명 정의: def create_url(search_type, search_text, start_num, display_num)"
      ],
      "metadata": {
        "id": "YpiayepcUG3g"
      }
    },
    {
      "cell_type": "code",
      "source": [
        "#사용자 정의 함수\n",
        "def create_url(search_type, search_text, start_num, display_num):\n",
        "    base = \"https://openapi.naver.com/v1/search/\"\n",
        "    node = search_type + \".json\"\n",
        "    param_query = \"?query=\" + urllib.parse.quote(search_text)\n",
        "    param_start = \"&start=\" + str(start_num)\n",
        "    param_disp = \"&display=\" + str(display_num)\n",
        "\n",
        "    return base + node + param_query + param_start + param_disp"
      ],
      "metadata": {
        "id": "rVUHfk_MmmqZ"
      },
      "execution_count": null,
      "outputs": []
    },
    {
      "cell_type": "code",
      "source": [
        "#호출\n",
        "create_url(\"book\", \"python\", 2, 100)"
      ],
      "metadata": {
        "colab": {
          "base_uri": "https://localhost:8080/",
          "height": 35
        },
        "id": "KdmIsYnGm3ZD",
        "outputId": "7609d8ee-4c58-404f-9a6a-1ff70485a087"
      },
      "execution_count": null,
      "outputs": [
        {
          "output_type": "execute_result",
          "data": {
            "text/plain": [
              "'https://openapi.naver.com/v1/search/book.json?query=python&start=2&display=100'"
            ],
            "application/vnd.google.colaboratory.intrinsic+json": {
              "type": "string"
            }
          },
          "metadata": {},
          "execution_count": 53
        }
      ]
    },
    {
      "cell_type": "markdown",
      "source": [
        "[질문] **Columns이 책제목,\t작가,\t출판일로 구성된 테이블을 어떻게 만들것인가?**"
      ],
      "metadata": {
        "id": "cq_z1xpo7vAF"
      }
    },
    {
      "cell_type": "code",
      "source": [
        "url = create_url(\"book\", \"파이썬\", 1, 100)\n",
        "    \n",
        "request = urllib.request.Request(url)\n",
        "request.add_header(\"X-Naver-Client-Id\", client_id)\n",
        "request.add_header(\"X-Naver-Client-Secret\", client_secret)\n",
        "    \n",
        "response = urllib.request.urlopen(request)\n",
        "\n",
        "result = json.loads(response.read().decode('utf-8'))\n",
        "result"
      ],
      "metadata": {
        "id": "kByBDebUnBtY"
      },
      "execution_count": null,
      "outputs": []
    },
    {
      "cell_type": "code",
      "source": [
        "len(result['items'])"
      ],
      "metadata": {
        "colab": {
          "base_uri": "https://localhost:8080/"
        },
        "id": "J4RRzDx-nUPN",
        "outputId": "e8b9893c-45a0-4582-bdec-0245f79b02d3"
      },
      "execution_count": null,
      "outputs": [
        {
          "output_type": "execute_result",
          "data": {
            "text/plain": [
              "2"
            ]
          },
          "metadata": {},
          "execution_count": 59
        }
      ]
    },
    {
      "cell_type": "code",
      "source": [
        "\"\"\"titles = [ ]\n",
        "for n in range(101):\n",
        "  titles.append(result['items'][n]['title'])\n",
        "\n",
        "titles\"\"\""
      ],
      "metadata": {
        "colab": {
          "base_uri": "https://localhost:8080/",
          "height": 35
        },
        "id": "sUYhJSgluUI8",
        "outputId": "c5b2f150-b657-43f4-8546-c627fca549a8"
      },
      "execution_count": null,
      "outputs": [
        {
          "output_type": "execute_result",
          "data": {
            "text/plain": [
              "\"titles = [ ]\\nfor n in range(101):\\n  titles.append(result['items'][n]['title'])\\n\\ntitles\""
            ],
            "application/vnd.google.colaboratory.intrinsic+json": {
              "type": "string"
            }
          },
          "metadata": {},
          "execution_count": 14
        }
      ]
    },
    {
      "cell_type": "code",
      "source": [
        "titles = [result['items'][n]['title']for n in range(3)]\n",
        "titles"
      ],
      "metadata": {
        "colab": {
          "base_uri": "https://localhost:8080/"
        },
        "id": "slA8egXXndwq",
        "outputId": "d2e605db-0100-4d71-bdb1-f49e48dfef2d"
      },
      "execution_count": null,
      "outputs": [
        {
          "output_type": "execute_result",
          "data": {
            "text/plain": [
              "['<b>파이썬</b> for Beginner (쉽고 빠르게 익히는 프로그래밍의 기본 원리)',\n",
              " '이것이 취업을 위한 코딩 테스트다 with <b>파이썬</b> (취업과 이직을 결정하는 알고리즘 인터뷰 완벽 가이드)',\n",
              " 'Do it! 점프 투 <b>파이썬</b>']"
            ]
          },
          "metadata": {},
          "execution_count": 63
        }
      ]
    },
    {
      "cell_type": "code",
      "source": [
        "authors = [result['items'][n]['author'] for n in range(3)]\n",
        "authors"
      ],
      "metadata": {
        "id": "Lom_aV8pnk8K",
        "colab": {
          "base_uri": "https://localhost:8080/"
        },
        "outputId": "691ba234-2dc9-4994-9dec-c05daea57868"
      },
      "execution_count": null,
      "outputs": [
        {
          "output_type": "execute_result",
          "data": {
            "text/plain": [
              "['우재남', '나동빈', '박응용']"
            ]
          },
          "metadata": {},
          "execution_count": 64
        }
      ]
    },
    {
      "cell_type": "code",
      "source": [
        "pubdates = [result['items'][n]['pubdate'] for n in range(3)]\n",
        "pubdates"
      ],
      "metadata": {
        "id": "fUGlpfz6nnt7",
        "colab": {
          "base_uri": "https://localhost:8080/"
        },
        "outputId": "8ab31cf1-70c7-4479-d839-eb4acb56e2a5"
      },
      "execution_count": null,
      "outputs": [
        {
          "output_type": "execute_result",
          "data": {
            "text/plain": [
              "['20220103', '20200805', '20190620']"
            ]
          },
          "metadata": {},
          "execution_count": 65
        }
      ]
    },
    {
      "cell_type": "code",
      "source": [
        "pd.DataFrame({'책제목':titles, '작가':authors, '출판일':pubdates})"
      ],
      "metadata": {
        "colab": {
          "base_uri": "https://localhost:8080/",
          "height": 143
        },
        "id": "jeFspsulnpTc",
        "outputId": "dd6922e8-90bd-4be0-c185-2e0ffc3e9e99"
      },
      "execution_count": null,
      "outputs": [
        {
          "output_type": "execute_result",
          "data": {
            "text/plain": [
              "                                                 책제목   작가       출판일\n",
              "0  <b>파이썬</b> for Beginner (쉽고 빠르게 익히는 프로그래밍의 기본 원리)  우재남  20220103\n",
              "1  이것이 취업을 위한 코딩 테스트다 with <b>파이썬</b> (취업과 이직을 결정...  나동빈  20200805\n",
              "2                             Do it! 점프 투 <b>파이썬</b>  박응용  20190620"
            ],
            "text/html": [
              "\n",
              "  <div id=\"df-31cdd526-14bc-498f-92ab-f9b3515c98b9\">\n",
              "    <div class=\"colab-df-container\">\n",
              "      <div>\n",
              "<style scoped>\n",
              "    .dataframe tbody tr th:only-of-type {\n",
              "        vertical-align: middle;\n",
              "    }\n",
              "\n",
              "    .dataframe tbody tr th {\n",
              "        vertical-align: top;\n",
              "    }\n",
              "\n",
              "    .dataframe thead th {\n",
              "        text-align: right;\n",
              "    }\n",
              "</style>\n",
              "<table border=\"1\" class=\"dataframe\">\n",
              "  <thead>\n",
              "    <tr style=\"text-align: right;\">\n",
              "      <th></th>\n",
              "      <th>책제목</th>\n",
              "      <th>작가</th>\n",
              "      <th>출판일</th>\n",
              "    </tr>\n",
              "  </thead>\n",
              "  <tbody>\n",
              "    <tr>\n",
              "      <th>0</th>\n",
              "      <td>&lt;b&gt;파이썬&lt;/b&gt; for Beginner (쉽고 빠르게 익히는 프로그래밍의 기본 원리)</td>\n",
              "      <td>우재남</td>\n",
              "      <td>20220103</td>\n",
              "    </tr>\n",
              "    <tr>\n",
              "      <th>1</th>\n",
              "      <td>이것이 취업을 위한 코딩 테스트다 with &lt;b&gt;파이썬&lt;/b&gt; (취업과 이직을 결정...</td>\n",
              "      <td>나동빈</td>\n",
              "      <td>20200805</td>\n",
              "    </tr>\n",
              "    <tr>\n",
              "      <th>2</th>\n",
              "      <td>Do it! 점프 투 &lt;b&gt;파이썬&lt;/b&gt;</td>\n",
              "      <td>박응용</td>\n",
              "      <td>20190620</td>\n",
              "    </tr>\n",
              "  </tbody>\n",
              "</table>\n",
              "</div>\n",
              "      <button class=\"colab-df-convert\" onclick=\"convertToInteractive('df-31cdd526-14bc-498f-92ab-f9b3515c98b9')\"\n",
              "              title=\"Convert this dataframe to an interactive table.\"\n",
              "              style=\"display:none;\">\n",
              "        \n",
              "  <svg xmlns=\"http://www.w3.org/2000/svg\" height=\"24px\"viewBox=\"0 0 24 24\"\n",
              "       width=\"24px\">\n",
              "    <path d=\"M0 0h24v24H0V0z\" fill=\"none\"/>\n",
              "    <path d=\"M18.56 5.44l.94 2.06.94-2.06 2.06-.94-2.06-.94-.94-2.06-.94 2.06-2.06.94zm-11 1L8.5 8.5l.94-2.06 2.06-.94-2.06-.94L8.5 2.5l-.94 2.06-2.06.94zm10 10l.94 2.06.94-2.06 2.06-.94-2.06-.94-.94-2.06-.94 2.06-2.06.94z\"/><path d=\"M17.41 7.96l-1.37-1.37c-.4-.4-.92-.59-1.43-.59-.52 0-1.04.2-1.43.59L10.3 9.45l-7.72 7.72c-.78.78-.78 2.05 0 2.83L4 21.41c.39.39.9.59 1.41.59.51 0 1.02-.2 1.41-.59l7.78-7.78 2.81-2.81c.8-.78.8-2.07 0-2.86zM5.41 20L4 18.59l7.72-7.72 1.47 1.35L5.41 20z\"/>\n",
              "  </svg>\n",
              "      </button>\n",
              "      \n",
              "  <style>\n",
              "    .colab-df-container {\n",
              "      display:flex;\n",
              "      flex-wrap:wrap;\n",
              "      gap: 12px;\n",
              "    }\n",
              "\n",
              "    .colab-df-convert {\n",
              "      background-color: #E8F0FE;\n",
              "      border: none;\n",
              "      border-radius: 50%;\n",
              "      cursor: pointer;\n",
              "      display: none;\n",
              "      fill: #1967D2;\n",
              "      height: 32px;\n",
              "      padding: 0 0 0 0;\n",
              "      width: 32px;\n",
              "    }\n",
              "\n",
              "    .colab-df-convert:hover {\n",
              "      background-color: #E2EBFA;\n",
              "      box-shadow: 0px 1px 2px rgba(60, 64, 67, 0.3), 0px 1px 3px 1px rgba(60, 64, 67, 0.15);\n",
              "      fill: #174EA6;\n",
              "    }\n",
              "\n",
              "    [theme=dark] .colab-df-convert {\n",
              "      background-color: #3B4455;\n",
              "      fill: #D2E3FC;\n",
              "    }\n",
              "\n",
              "    [theme=dark] .colab-df-convert:hover {\n",
              "      background-color: #434B5C;\n",
              "      box-shadow: 0px 1px 3px 1px rgba(0, 0, 0, 0.15);\n",
              "      filter: drop-shadow(0px 1px 2px rgba(0, 0, 0, 0.3));\n",
              "      fill: #FFFFFF;\n",
              "    }\n",
              "  </style>\n",
              "\n",
              "      <script>\n",
              "        const buttonEl =\n",
              "          document.querySelector('#df-31cdd526-14bc-498f-92ab-f9b3515c98b9 button.colab-df-convert');\n",
              "        buttonEl.style.display =\n",
              "          google.colab.kernel.accessAllowed ? 'block' : 'none';\n",
              "\n",
              "        async function convertToInteractive(key) {\n",
              "          const element = document.querySelector('#df-31cdd526-14bc-498f-92ab-f9b3515c98b9');\n",
              "          const dataTable =\n",
              "            await google.colab.kernel.invokeFunction('convertToInteractive',\n",
              "                                                     [key], {});\n",
              "          if (!dataTable) return;\n",
              "\n",
              "          const docLinkHtml = 'Like what you see? Visit the ' +\n",
              "            '<a target=\"_blank\" href=https://colab.research.google.com/notebooks/data_table.ipynb>data table notebook</a>'\n",
              "            + ' to learn more about interactive tables.';\n",
              "          element.innerHTML = '';\n",
              "          dataTable['output_type'] = 'display_data';\n",
              "          await google.colab.output.renderOutput(dataTable, element);\n",
              "          const docLink = document.createElement('div');\n",
              "          docLink.innerHTML = docLinkHtml;\n",
              "          element.appendChild(docLink);\n",
              "        }\n",
              "      </script>\n",
              "    </div>\n",
              "  </div>\n",
              "  "
            ]
          },
          "metadata": {},
          "execution_count": 66
        }
      ]
    },
    {
      "cell_type": "markdown",
      "source": [
        "**2) 사용자 정의 함수 : get_dataframe()**\n",
        "1.   parameter 값 정의: url\n",
        "2.   return 값 정의 : DataFrame\n",
        "3.   함수명 정의: def get_dataframe(url)"
      ],
      "metadata": {
        "id": "B5VD5rKT4pXx"
      }
    },
    {
      "cell_type": "code",
      "source": [
        "def get_dataframe(url):\n",
        "    request = urllib.request.Request(url)\n",
        "    request.add_header(\"X-Naver-Client-Id\", client_id)\n",
        "    request.add_header(\"X-Naver-Client-Secret\", client_secret)\n",
        "    \n",
        "    response = urllib.request.urlopen(request)\n",
        "\n",
        "    result = json.loads(response.read().decode('utf-8'))\n",
        "    \n",
        "    end_num = result['display']\n",
        "    \n",
        "    titles = [result['items'][n]['title'] for n in range(end_num)]\n",
        "    authors = [result['items'][n]['author'] for n in range(end_num)]\n",
        "    pubdates = [result['items'][n]['pubdate'] for n in range(end_num)]\n",
        "    \n",
        "    return pd.DataFrame({'책제목':titles, '작가':authors, '출판일':pubdates})"
      ],
      "metadata": {
        "id": "GEGdEhb8n9ae"
      },
      "execution_count": null,
      "outputs": []
    },
    {
      "cell_type": "code",
      "source": [
        "url = create_url(\"book\", \"파이썬\", 1, 10)\n",
        "get_dataframe(url)"
      ],
      "metadata": {
        "colab": {
          "base_uri": "https://localhost:8080/",
          "height": 363
        },
        "id": "27gudLFQqxV6",
        "outputId": "e66ce6df-c72b-412a-c6b2-f4b45a3627a7"
      },
      "execution_count": null,
      "outputs": [
        {
          "output_type": "execute_result",
          "data": {
            "text/plain": [
              "                                                 책제목                   작가  \\\n",
              "0  <b>파이썬</b> for Beginner (쉽고 빠르게 익히는 프로그래밍의 기본 원리)                  우재남   \n",
              "1  이것이 취업을 위한 코딩 테스트다 with <b>파이썬</b> (취업과 이직을 결정...                  나동빈   \n",
              "2                             Do it! 점프 투 <b>파이썬</b>                  박응용   \n",
              "3           혼자 공부하는 <b>파이썬</b> (<b>파이썬</b> 최신 버전 반영)                  윤인성   \n",
              "4                     <b>파이썬</b> Express (파워 유저를 위한)                  천인국   \n",
              "5                              <b>파이썬</b>으로 배우는 공업수학  김도영|김재현|김현태|정보현|정순모   \n",
              "6                        컴퓨팅 기반 문제해결 with <b>파이썬</b>                  장은실   \n",
              "7  <b>파이썬</b> 알고리즘 인터뷰 (95가지 알고리즘 문제 풀이로 완성하는 코딩 ...                  박상길   \n",
              "8                              난생처음 <b>파이썬</b> 프로그래밍              우재남|최민아   \n",
              "9                      <b>파이썬</b>과 데이터 과학 (따라하며 배우는)          천인국|박동규|강영민   \n",
              "\n",
              "        출판일  \n",
              "0  20220103  \n",
              "1  20200805  \n",
              "2  20190620  \n",
              "3  20190610  \n",
              "4  20201120  \n",
              "5  20220301  \n",
              "6  20220126  \n",
              "7  20200715  \n",
              "8  20210628  \n",
              "9  20201228  "
            ],
            "text/html": [
              "\n",
              "  <div id=\"df-08bc1015-f836-4648-bacd-40aeb4c5dc78\">\n",
              "    <div class=\"colab-df-container\">\n",
              "      <div>\n",
              "<style scoped>\n",
              "    .dataframe tbody tr th:only-of-type {\n",
              "        vertical-align: middle;\n",
              "    }\n",
              "\n",
              "    .dataframe tbody tr th {\n",
              "        vertical-align: top;\n",
              "    }\n",
              "\n",
              "    .dataframe thead th {\n",
              "        text-align: right;\n",
              "    }\n",
              "</style>\n",
              "<table border=\"1\" class=\"dataframe\">\n",
              "  <thead>\n",
              "    <tr style=\"text-align: right;\">\n",
              "      <th></th>\n",
              "      <th>책제목</th>\n",
              "      <th>작가</th>\n",
              "      <th>출판일</th>\n",
              "    </tr>\n",
              "  </thead>\n",
              "  <tbody>\n",
              "    <tr>\n",
              "      <th>0</th>\n",
              "      <td>&lt;b&gt;파이썬&lt;/b&gt; for Beginner (쉽고 빠르게 익히는 프로그래밍의 기본 원리)</td>\n",
              "      <td>우재남</td>\n",
              "      <td>20220103</td>\n",
              "    </tr>\n",
              "    <tr>\n",
              "      <th>1</th>\n",
              "      <td>이것이 취업을 위한 코딩 테스트다 with &lt;b&gt;파이썬&lt;/b&gt; (취업과 이직을 결정...</td>\n",
              "      <td>나동빈</td>\n",
              "      <td>20200805</td>\n",
              "    </tr>\n",
              "    <tr>\n",
              "      <th>2</th>\n",
              "      <td>Do it! 점프 투 &lt;b&gt;파이썬&lt;/b&gt;</td>\n",
              "      <td>박응용</td>\n",
              "      <td>20190620</td>\n",
              "    </tr>\n",
              "    <tr>\n",
              "      <th>3</th>\n",
              "      <td>혼자 공부하는 &lt;b&gt;파이썬&lt;/b&gt; (&lt;b&gt;파이썬&lt;/b&gt; 최신 버전 반영)</td>\n",
              "      <td>윤인성</td>\n",
              "      <td>20190610</td>\n",
              "    </tr>\n",
              "    <tr>\n",
              "      <th>4</th>\n",
              "      <td>&lt;b&gt;파이썬&lt;/b&gt; Express (파워 유저를 위한)</td>\n",
              "      <td>천인국</td>\n",
              "      <td>20201120</td>\n",
              "    </tr>\n",
              "    <tr>\n",
              "      <th>5</th>\n",
              "      <td>&lt;b&gt;파이썬&lt;/b&gt;으로 배우는 공업수학</td>\n",
              "      <td>김도영|김재현|김현태|정보현|정순모</td>\n",
              "      <td>20220301</td>\n",
              "    </tr>\n",
              "    <tr>\n",
              "      <th>6</th>\n",
              "      <td>컴퓨팅 기반 문제해결 with &lt;b&gt;파이썬&lt;/b&gt;</td>\n",
              "      <td>장은실</td>\n",
              "      <td>20220126</td>\n",
              "    </tr>\n",
              "    <tr>\n",
              "      <th>7</th>\n",
              "      <td>&lt;b&gt;파이썬&lt;/b&gt; 알고리즘 인터뷰 (95가지 알고리즘 문제 풀이로 완성하는 코딩 ...</td>\n",
              "      <td>박상길</td>\n",
              "      <td>20200715</td>\n",
              "    </tr>\n",
              "    <tr>\n",
              "      <th>8</th>\n",
              "      <td>난생처음 &lt;b&gt;파이썬&lt;/b&gt; 프로그래밍</td>\n",
              "      <td>우재남|최민아</td>\n",
              "      <td>20210628</td>\n",
              "    </tr>\n",
              "    <tr>\n",
              "      <th>9</th>\n",
              "      <td>&lt;b&gt;파이썬&lt;/b&gt;과 데이터 과학 (따라하며 배우는)</td>\n",
              "      <td>천인국|박동규|강영민</td>\n",
              "      <td>20201228</td>\n",
              "    </tr>\n",
              "  </tbody>\n",
              "</table>\n",
              "</div>\n",
              "      <button class=\"colab-df-convert\" onclick=\"convertToInteractive('df-08bc1015-f836-4648-bacd-40aeb4c5dc78')\"\n",
              "              title=\"Convert this dataframe to an interactive table.\"\n",
              "              style=\"display:none;\">\n",
              "        \n",
              "  <svg xmlns=\"http://www.w3.org/2000/svg\" height=\"24px\"viewBox=\"0 0 24 24\"\n",
              "       width=\"24px\">\n",
              "    <path d=\"M0 0h24v24H0V0z\" fill=\"none\"/>\n",
              "    <path d=\"M18.56 5.44l.94 2.06.94-2.06 2.06-.94-2.06-.94-.94-2.06-.94 2.06-2.06.94zm-11 1L8.5 8.5l.94-2.06 2.06-.94-2.06-.94L8.5 2.5l-.94 2.06-2.06.94zm10 10l.94 2.06.94-2.06 2.06-.94-2.06-.94-.94-2.06-.94 2.06-2.06.94z\"/><path d=\"M17.41 7.96l-1.37-1.37c-.4-.4-.92-.59-1.43-.59-.52 0-1.04.2-1.43.59L10.3 9.45l-7.72 7.72c-.78.78-.78 2.05 0 2.83L4 21.41c.39.39.9.59 1.41.59.51 0 1.02-.2 1.41-.59l7.78-7.78 2.81-2.81c.8-.78.8-2.07 0-2.86zM5.41 20L4 18.59l7.72-7.72 1.47 1.35L5.41 20z\"/>\n",
              "  </svg>\n",
              "      </button>\n",
              "      \n",
              "  <style>\n",
              "    .colab-df-container {\n",
              "      display:flex;\n",
              "      flex-wrap:wrap;\n",
              "      gap: 12px;\n",
              "    }\n",
              "\n",
              "    .colab-df-convert {\n",
              "      background-color: #E8F0FE;\n",
              "      border: none;\n",
              "      border-radius: 50%;\n",
              "      cursor: pointer;\n",
              "      display: none;\n",
              "      fill: #1967D2;\n",
              "      height: 32px;\n",
              "      padding: 0 0 0 0;\n",
              "      width: 32px;\n",
              "    }\n",
              "\n",
              "    .colab-df-convert:hover {\n",
              "      background-color: #E2EBFA;\n",
              "      box-shadow: 0px 1px 2px rgba(60, 64, 67, 0.3), 0px 1px 3px 1px rgba(60, 64, 67, 0.15);\n",
              "      fill: #174EA6;\n",
              "    }\n",
              "\n",
              "    [theme=dark] .colab-df-convert {\n",
              "      background-color: #3B4455;\n",
              "      fill: #D2E3FC;\n",
              "    }\n",
              "\n",
              "    [theme=dark] .colab-df-convert:hover {\n",
              "      background-color: #434B5C;\n",
              "      box-shadow: 0px 1px 3px 1px rgba(0, 0, 0, 0.15);\n",
              "      filter: drop-shadow(0px 1px 2px rgba(0, 0, 0, 0.3));\n",
              "      fill: #FFFFFF;\n",
              "    }\n",
              "  </style>\n",
              "\n",
              "      <script>\n",
              "        const buttonEl =\n",
              "          document.querySelector('#df-08bc1015-f836-4648-bacd-40aeb4c5dc78 button.colab-df-convert');\n",
              "        buttonEl.style.display =\n",
              "          google.colab.kernel.accessAllowed ? 'block' : 'none';\n",
              "\n",
              "        async function convertToInteractive(key) {\n",
              "          const element = document.querySelector('#df-08bc1015-f836-4648-bacd-40aeb4c5dc78');\n",
              "          const dataTable =\n",
              "            await google.colab.kernel.invokeFunction('convertToInteractive',\n",
              "                                                     [key], {});\n",
              "          if (!dataTable) return;\n",
              "\n",
              "          const docLinkHtml = 'Like what you see? Visit the ' +\n",
              "            '<a target=\"_blank\" href=https://colab.research.google.com/notebooks/data_table.ipynb>data table notebook</a>'\n",
              "            + ' to learn more about interactive tables.';\n",
              "          element.innerHTML = '';\n",
              "          dataTable['output_type'] = 'display_data';\n",
              "          await google.colab.output.renderOutput(dataTable, element);\n",
              "          const docLink = document.createElement('div');\n",
              "          docLink.innerHTML = docLinkHtml;\n",
              "          element.appendChild(docLink);\n",
              "        }\n",
              "      </script>\n",
              "    </div>\n",
              "  </div>\n",
              "  "
            ]
          },
          "metadata": {},
          "execution_count": 75
        }
      ]
    },
    {
      "cell_type": "markdown",
      "source": [
        "질문)\n",
        "**어떻게 한번에 100개 이상의 데이터를 다운로드 받을 것인가?**"
      ],
      "metadata": {
        "id": "UBU3rTcikZXX"
      }
    },
    {
      "cell_type": "code",
      "source": [
        "#start_num\n",
        "[n for n in range(1,300,100)]"
      ],
      "metadata": {
        "colab": {
          "base_uri": "https://localhost:8080/"
        },
        "id": "eCa8RWnYtqZh",
        "outputId": "c2ad341e-6b98-4f55-9703-d966957e539a"
      },
      "execution_count": null,
      "outputs": [
        {
          "output_type": "execute_result",
          "data": {
            "text/plain": [
              "[1, 101, 201]"
            ]
          },
          "metadata": {},
          "execution_count": 146
        }
      ]
    },
    {
      "cell_type": "code",
      "source": [
        "result_search = []\n",
        "\n",
        "for n in range(1,300,100):\n",
        "    url = create_url(\"book\", \"파이썬\", n, 100)\n",
        "    result_search.append(get_dataframe(url))\n",
        "\n",
        "result_search\n",
        "result_search = pd.concat(result_search) # pd.concat([df, df, df])\n",
        "result_search"
      ],
      "metadata": {
        "id": "eQ6j3D7KU2hJ"
      },
      "execution_count": null,
      "outputs": []
    },
    {
      "cell_type": "markdown",
      "source": [
        "**3) 사용자 정의 함수 : get_naversearch()**\n",
        "1.   parameter 값 정의: search_type, search_text, total_num, display_num\n",
        "2.   return 값 정의 : DataFrame\n",
        "3.   함수명 정의: def naversearch(search_type, search_text, total_num, display_num)"
      ],
      "metadata": {
        "id": "G_Jm4A0x6ebN"
      }
    },
    {
      "cell_type": "code",
      "source": [
        "# 판다스 데이블 전체보기\n",
        "#pd.set_option('display.max_rows', None)\n",
        "# 판다스 초기화\n",
        "pd.reset_option('^display.', silent=True)"
      ],
      "metadata": {
        "id": "mh50Z0yH9CO5"
      },
      "execution_count": null,
      "outputs": []
    },
    {
      "cell_type": "code",
      "source": [
        "result_search = []\n",
        "def get_naversearch(search_type, search_text, total_num, display_num):\n",
        "  for n in range(1,total_num, display_num):\n",
        "      url = create_url(search_type, search_text, n, display_num)\n",
        "      result_search.append(get_dataframe(url))\n",
        "  return pd.concat(result_search)"
      ],
      "metadata": {
        "id": "M4eqngJotuWX"
      },
      "execution_count": null,
      "outputs": []
    },
    {
      "cell_type": "code",
      "source": [
        "f_result= get_naversearch('book', 'python', 300, 100)"
      ],
      "metadata": {
        "id": "-pvV4w6wVJdx"
      },
      "execution_count": null,
      "outputs": []
    },
    {
      "cell_type": "code",
      "source": [
        "f_result"
      ],
      "metadata": {
        "colab": {
          "base_uri": "https://localhost:8080/",
          "height": 423
        },
        "id": "J6HS3hTHXOSn",
        "outputId": "afb5ab75-b2e5-46ab-dadd-984cbbdd4839"
      },
      "execution_count": null,
      "outputs": [
        {
          "output_type": "execute_result",
          "data": {
            "text/plain": [
              "                                                  책제목                작가  \\\n",
              "0                     미적분과 벡터해석 기초 with <b>Python</b>           심성아|윤기헌   \n",
              "1       <b>Python</b> 실습으로 기초부터 (컴퓨팅 사고를 키우기 위한 첫 걸음)               이진영   \n",
              "2                      <b>Python</b>으로 배우는 문제해결과 인공지능           김현정|오경선   \n",
              "3                   CODING BASICS <b>PYTHON</b> (파이썬)       김상민|장성식|김일태   \n",
              "4   <b>Python</b> Challenges: 100 Proven Programmi...     Inden|Michael   \n",
              "..                                                ...               ...   \n",
              "95  <b>Python</b> Data Science (The Ultimate Guide...       Steve Blair   \n",
              "96  Mastering <b>Python</b> for Bioinformatics: Ho...  Youens-Clark|Ken   \n",
              "97  <b>PYTHON</b> PROGRAMMING SERIES 2 (THIS BOOK ...        John Brown   \n",
              "98  <b>PYTHON</b> PROGRAMMING SERIES 2 (THIS BOOK ...        John Brown   \n",
              "99  <b>PYTHON</b> AND HTML PROGRAMMING (THIS BOOK ...        John Brown   \n",
              "\n",
              "         출판일  \n",
              "0   20220228  \n",
              "1   20210322  \n",
              "2   20210225  \n",
              "3   20220210  \n",
              "4   20220313  \n",
              "..       ...  \n",
              "95  20210416  \n",
              "96  20210615  \n",
              "97  20210416  \n",
              "98  20210416  \n",
              "99  20210410  \n",
              "\n",
              "[300 rows x 3 columns]"
            ],
            "text/html": [
              "\n",
              "  <div id=\"df-ba6f70e8-2ab3-4a36-aa5f-87d068f5213c\">\n",
              "    <div class=\"colab-df-container\">\n",
              "      <div>\n",
              "<style scoped>\n",
              "    .dataframe tbody tr th:only-of-type {\n",
              "        vertical-align: middle;\n",
              "    }\n",
              "\n",
              "    .dataframe tbody tr th {\n",
              "        vertical-align: top;\n",
              "    }\n",
              "\n",
              "    .dataframe thead th {\n",
              "        text-align: right;\n",
              "    }\n",
              "</style>\n",
              "<table border=\"1\" class=\"dataframe\">\n",
              "  <thead>\n",
              "    <tr style=\"text-align: right;\">\n",
              "      <th></th>\n",
              "      <th>책제목</th>\n",
              "      <th>작가</th>\n",
              "      <th>출판일</th>\n",
              "    </tr>\n",
              "  </thead>\n",
              "  <tbody>\n",
              "    <tr>\n",
              "      <th>0</th>\n",
              "      <td>미적분과 벡터해석 기초 with &lt;b&gt;Python&lt;/b&gt;</td>\n",
              "      <td>심성아|윤기헌</td>\n",
              "      <td>20220228</td>\n",
              "    </tr>\n",
              "    <tr>\n",
              "      <th>1</th>\n",
              "      <td>&lt;b&gt;Python&lt;/b&gt; 실습으로 기초부터 (컴퓨팅 사고를 키우기 위한 첫 걸음)</td>\n",
              "      <td>이진영</td>\n",
              "      <td>20210322</td>\n",
              "    </tr>\n",
              "    <tr>\n",
              "      <th>2</th>\n",
              "      <td>&lt;b&gt;Python&lt;/b&gt;으로 배우는 문제해결과 인공지능</td>\n",
              "      <td>김현정|오경선</td>\n",
              "      <td>20210225</td>\n",
              "    </tr>\n",
              "    <tr>\n",
              "      <th>3</th>\n",
              "      <td>CODING BASICS &lt;b&gt;PYTHON&lt;/b&gt; (파이썬)</td>\n",
              "      <td>김상민|장성식|김일태</td>\n",
              "      <td>20220210</td>\n",
              "    </tr>\n",
              "    <tr>\n",
              "      <th>4</th>\n",
              "      <td>&lt;b&gt;Python&lt;/b&gt; Challenges: 100 Proven Programmi...</td>\n",
              "      <td>Inden|Michael</td>\n",
              "      <td>20220313</td>\n",
              "    </tr>\n",
              "    <tr>\n",
              "      <th>...</th>\n",
              "      <td>...</td>\n",
              "      <td>...</td>\n",
              "      <td>...</td>\n",
              "    </tr>\n",
              "    <tr>\n",
              "      <th>95</th>\n",
              "      <td>&lt;b&gt;Python&lt;/b&gt; Data Science (The Ultimate Guide...</td>\n",
              "      <td>Steve Blair</td>\n",
              "      <td>20210416</td>\n",
              "    </tr>\n",
              "    <tr>\n",
              "      <th>96</th>\n",
              "      <td>Mastering &lt;b&gt;Python&lt;/b&gt; for Bioinformatics: Ho...</td>\n",
              "      <td>Youens-Clark|Ken</td>\n",
              "      <td>20210615</td>\n",
              "    </tr>\n",
              "    <tr>\n",
              "      <th>97</th>\n",
              "      <td>&lt;b&gt;PYTHON&lt;/b&gt; PROGRAMMING SERIES 2 (THIS BOOK ...</td>\n",
              "      <td>John Brown</td>\n",
              "      <td>20210416</td>\n",
              "    </tr>\n",
              "    <tr>\n",
              "      <th>98</th>\n",
              "      <td>&lt;b&gt;PYTHON&lt;/b&gt; PROGRAMMING SERIES 2 (THIS BOOK ...</td>\n",
              "      <td>John Brown</td>\n",
              "      <td>20210416</td>\n",
              "    </tr>\n",
              "    <tr>\n",
              "      <th>99</th>\n",
              "      <td>&lt;b&gt;PYTHON&lt;/b&gt; AND HTML PROGRAMMING (THIS BOOK ...</td>\n",
              "      <td>John Brown</td>\n",
              "      <td>20210410</td>\n",
              "    </tr>\n",
              "  </tbody>\n",
              "</table>\n",
              "<p>300 rows × 3 columns</p>\n",
              "</div>\n",
              "      <button class=\"colab-df-convert\" onclick=\"convertToInteractive('df-ba6f70e8-2ab3-4a36-aa5f-87d068f5213c')\"\n",
              "              title=\"Convert this dataframe to an interactive table.\"\n",
              "              style=\"display:none;\">\n",
              "        \n",
              "  <svg xmlns=\"http://www.w3.org/2000/svg\" height=\"24px\"viewBox=\"0 0 24 24\"\n",
              "       width=\"24px\">\n",
              "    <path d=\"M0 0h24v24H0V0z\" fill=\"none\"/>\n",
              "    <path d=\"M18.56 5.44l.94 2.06.94-2.06 2.06-.94-2.06-.94-.94-2.06-.94 2.06-2.06.94zm-11 1L8.5 8.5l.94-2.06 2.06-.94-2.06-.94L8.5 2.5l-.94 2.06-2.06.94zm10 10l.94 2.06.94-2.06 2.06-.94-2.06-.94-.94-2.06-.94 2.06-2.06.94z\"/><path d=\"M17.41 7.96l-1.37-1.37c-.4-.4-.92-.59-1.43-.59-.52 0-1.04.2-1.43.59L10.3 9.45l-7.72 7.72c-.78.78-.78 2.05 0 2.83L4 21.41c.39.39.9.59 1.41.59.51 0 1.02-.2 1.41-.59l7.78-7.78 2.81-2.81c.8-.78.8-2.07 0-2.86zM5.41 20L4 18.59l7.72-7.72 1.47 1.35L5.41 20z\"/>\n",
              "  </svg>\n",
              "      </button>\n",
              "      \n",
              "  <style>\n",
              "    .colab-df-container {\n",
              "      display:flex;\n",
              "      flex-wrap:wrap;\n",
              "      gap: 12px;\n",
              "    }\n",
              "\n",
              "    .colab-df-convert {\n",
              "      background-color: #E8F0FE;\n",
              "      border: none;\n",
              "      border-radius: 50%;\n",
              "      cursor: pointer;\n",
              "      display: none;\n",
              "      fill: #1967D2;\n",
              "      height: 32px;\n",
              "      padding: 0 0 0 0;\n",
              "      width: 32px;\n",
              "    }\n",
              "\n",
              "    .colab-df-convert:hover {\n",
              "      background-color: #E2EBFA;\n",
              "      box-shadow: 0px 1px 2px rgba(60, 64, 67, 0.3), 0px 1px 3px 1px rgba(60, 64, 67, 0.15);\n",
              "      fill: #174EA6;\n",
              "    }\n",
              "\n",
              "    [theme=dark] .colab-df-convert {\n",
              "      background-color: #3B4455;\n",
              "      fill: #D2E3FC;\n",
              "    }\n",
              "\n",
              "    [theme=dark] .colab-df-convert:hover {\n",
              "      background-color: #434B5C;\n",
              "      box-shadow: 0px 1px 3px 1px rgba(0, 0, 0, 0.15);\n",
              "      filter: drop-shadow(0px 1px 2px rgba(0, 0, 0, 0.3));\n",
              "      fill: #FFFFFF;\n",
              "    }\n",
              "  </style>\n",
              "\n",
              "      <script>\n",
              "        const buttonEl =\n",
              "          document.querySelector('#df-ba6f70e8-2ab3-4a36-aa5f-87d068f5213c button.colab-df-convert');\n",
              "        buttonEl.style.display =\n",
              "          google.colab.kernel.accessAllowed ? 'block' : 'none';\n",
              "\n",
              "        async function convertToInteractive(key) {\n",
              "          const element = document.querySelector('#df-ba6f70e8-2ab3-4a36-aa5f-87d068f5213c');\n",
              "          const dataTable =\n",
              "            await google.colab.kernel.invokeFunction('convertToInteractive',\n",
              "                                                     [key], {});\n",
              "          if (!dataTable) return;\n",
              "\n",
              "          const docLinkHtml = 'Like what you see? Visit the ' +\n",
              "            '<a target=\"_blank\" href=https://colab.research.google.com/notebooks/data_table.ipynb>data table notebook</a>'\n",
              "            + ' to learn more about interactive tables.';\n",
              "          element.innerHTML = '';\n",
              "          dataTable['output_type'] = 'display_data';\n",
              "          await google.colab.output.renderOutput(dataTable, element);\n",
              "          const docLink = document.createElement('div');\n",
              "          docLink.innerHTML = docLinkHtml;\n",
              "          element.appendChild(docLink);\n",
              "        }\n",
              "      </script>\n",
              "    </div>\n",
              "  </div>\n",
              "  "
            ]
          },
          "metadata": {},
          "execution_count": 155
        }
      ]
    },
    {
      "cell_type": "code",
      "source": [
        "f_result.tail()"
      ],
      "metadata": {
        "colab": {
          "base_uri": "https://localhost:8080/",
          "height": 206
        },
        "id": "IDqRzgJ6tzAT",
        "outputId": "c78e3070-74c7-4a71-f12b-5f0ef906ebd2"
      },
      "execution_count": null,
      "outputs": [
        {
          "output_type": "execute_result",
          "data": {
            "text/plain": [
              "                                                  책제목                작가  \\\n",
              "95  <b>Python</b> Data Science (The Ultimate Guide...       Steve Blair   \n",
              "96  Mastering <b>Python</b> for Bioinformatics: Ho...  Youens-Clark|Ken   \n",
              "97  <b>PYTHON</b> PROGRAMMING SERIES 2 (THIS BOOK ...        John Brown   \n",
              "98  <b>PYTHON</b> PROGRAMMING SERIES 2 (THIS BOOK ...        John Brown   \n",
              "99  <b>PYTHON</b> AND HTML PROGRAMMING (THIS BOOK ...        John Brown   \n",
              "\n",
              "         출판일  \n",
              "95  20210416  \n",
              "96  20210615  \n",
              "97  20210416  \n",
              "98  20210416  \n",
              "99  20210410  "
            ],
            "text/html": [
              "\n",
              "  <div id=\"df-cc733391-14c9-4641-9bbe-54e32dcd6877\">\n",
              "    <div class=\"colab-df-container\">\n",
              "      <div>\n",
              "<style scoped>\n",
              "    .dataframe tbody tr th:only-of-type {\n",
              "        vertical-align: middle;\n",
              "    }\n",
              "\n",
              "    .dataframe tbody tr th {\n",
              "        vertical-align: top;\n",
              "    }\n",
              "\n",
              "    .dataframe thead th {\n",
              "        text-align: right;\n",
              "    }\n",
              "</style>\n",
              "<table border=\"1\" class=\"dataframe\">\n",
              "  <thead>\n",
              "    <tr style=\"text-align: right;\">\n",
              "      <th></th>\n",
              "      <th>책제목</th>\n",
              "      <th>작가</th>\n",
              "      <th>출판일</th>\n",
              "    </tr>\n",
              "  </thead>\n",
              "  <tbody>\n",
              "    <tr>\n",
              "      <th>95</th>\n",
              "      <td>&lt;b&gt;Python&lt;/b&gt; Data Science (The Ultimate Guide...</td>\n",
              "      <td>Steve Blair</td>\n",
              "      <td>20210416</td>\n",
              "    </tr>\n",
              "    <tr>\n",
              "      <th>96</th>\n",
              "      <td>Mastering &lt;b&gt;Python&lt;/b&gt; for Bioinformatics: Ho...</td>\n",
              "      <td>Youens-Clark|Ken</td>\n",
              "      <td>20210615</td>\n",
              "    </tr>\n",
              "    <tr>\n",
              "      <th>97</th>\n",
              "      <td>&lt;b&gt;PYTHON&lt;/b&gt; PROGRAMMING SERIES 2 (THIS BOOK ...</td>\n",
              "      <td>John Brown</td>\n",
              "      <td>20210416</td>\n",
              "    </tr>\n",
              "    <tr>\n",
              "      <th>98</th>\n",
              "      <td>&lt;b&gt;PYTHON&lt;/b&gt; PROGRAMMING SERIES 2 (THIS BOOK ...</td>\n",
              "      <td>John Brown</td>\n",
              "      <td>20210416</td>\n",
              "    </tr>\n",
              "    <tr>\n",
              "      <th>99</th>\n",
              "      <td>&lt;b&gt;PYTHON&lt;/b&gt; AND HTML PROGRAMMING (THIS BOOK ...</td>\n",
              "      <td>John Brown</td>\n",
              "      <td>20210410</td>\n",
              "    </tr>\n",
              "  </tbody>\n",
              "</table>\n",
              "</div>\n",
              "      <button class=\"colab-df-convert\" onclick=\"convertToInteractive('df-cc733391-14c9-4641-9bbe-54e32dcd6877')\"\n",
              "              title=\"Convert this dataframe to an interactive table.\"\n",
              "              style=\"display:none;\">\n",
              "        \n",
              "  <svg xmlns=\"http://www.w3.org/2000/svg\" height=\"24px\"viewBox=\"0 0 24 24\"\n",
              "       width=\"24px\">\n",
              "    <path d=\"M0 0h24v24H0V0z\" fill=\"none\"/>\n",
              "    <path d=\"M18.56 5.44l.94 2.06.94-2.06 2.06-.94-2.06-.94-.94-2.06-.94 2.06-2.06.94zm-11 1L8.5 8.5l.94-2.06 2.06-.94-2.06-.94L8.5 2.5l-.94 2.06-2.06.94zm10 10l.94 2.06.94-2.06 2.06-.94-2.06-.94-.94-2.06-.94 2.06-2.06.94z\"/><path d=\"M17.41 7.96l-1.37-1.37c-.4-.4-.92-.59-1.43-.59-.52 0-1.04.2-1.43.59L10.3 9.45l-7.72 7.72c-.78.78-.78 2.05 0 2.83L4 21.41c.39.39.9.59 1.41.59.51 0 1.02-.2 1.41-.59l7.78-7.78 2.81-2.81c.8-.78.8-2.07 0-2.86zM5.41 20L4 18.59l7.72-7.72 1.47 1.35L5.41 20z\"/>\n",
              "  </svg>\n",
              "      </button>\n",
              "      \n",
              "  <style>\n",
              "    .colab-df-container {\n",
              "      display:flex;\n",
              "      flex-wrap:wrap;\n",
              "      gap: 12px;\n",
              "    }\n",
              "\n",
              "    .colab-df-convert {\n",
              "      background-color: #E8F0FE;\n",
              "      border: none;\n",
              "      border-radius: 50%;\n",
              "      cursor: pointer;\n",
              "      display: none;\n",
              "      fill: #1967D2;\n",
              "      height: 32px;\n",
              "      padding: 0 0 0 0;\n",
              "      width: 32px;\n",
              "    }\n",
              "\n",
              "    .colab-df-convert:hover {\n",
              "      background-color: #E2EBFA;\n",
              "      box-shadow: 0px 1px 2px rgba(60, 64, 67, 0.3), 0px 1px 3px 1px rgba(60, 64, 67, 0.15);\n",
              "      fill: #174EA6;\n",
              "    }\n",
              "\n",
              "    [theme=dark] .colab-df-convert {\n",
              "      background-color: #3B4455;\n",
              "      fill: #D2E3FC;\n",
              "    }\n",
              "\n",
              "    [theme=dark] .colab-df-convert:hover {\n",
              "      background-color: #434B5C;\n",
              "      box-shadow: 0px 1px 3px 1px rgba(0, 0, 0, 0.15);\n",
              "      filter: drop-shadow(0px 1px 2px rgba(0, 0, 0, 0.3));\n",
              "      fill: #FFFFFF;\n",
              "    }\n",
              "  </style>\n",
              "\n",
              "      <script>\n",
              "        const buttonEl =\n",
              "          document.querySelector('#df-cc733391-14c9-4641-9bbe-54e32dcd6877 button.colab-df-convert');\n",
              "        buttonEl.style.display =\n",
              "          google.colab.kernel.accessAllowed ? 'block' : 'none';\n",
              "\n",
              "        async function convertToInteractive(key) {\n",
              "          const element = document.querySelector('#df-cc733391-14c9-4641-9bbe-54e32dcd6877');\n",
              "          const dataTable =\n",
              "            await google.colab.kernel.invokeFunction('convertToInteractive',\n",
              "                                                     [key], {});\n",
              "          if (!dataTable) return;\n",
              "\n",
              "          const docLinkHtml = 'Like what you see? Visit the ' +\n",
              "            '<a target=\"_blank\" href=https://colab.research.google.com/notebooks/data_table.ipynb>data table notebook</a>'\n",
              "            + ' to learn more about interactive tables.';\n",
              "          element.innerHTML = '';\n",
              "          dataTable['output_type'] = 'display_data';\n",
              "          await google.colab.output.renderOutput(dataTable, element);\n",
              "          const docLink = document.createElement('div');\n",
              "          docLink.innerHTML = docLinkHtml;\n",
              "          element.appendChild(docLink);\n",
              "        }\n",
              "      </script>\n",
              "    </div>\n",
              "  </div>\n",
              "  "
            ]
          },
          "metadata": {},
          "execution_count": 157
        }
      ]
    },
    {
      "cell_type": "code",
      "source": [
        "f_result.info()"
      ],
      "metadata": {
        "colab": {
          "base_uri": "https://localhost:8080/"
        },
        "id": "2W9yOgDEt5wX",
        "outputId": "7a5ebd47-c52e-49f1-cadb-a52727d4c2cf"
      },
      "execution_count": null,
      "outputs": [
        {
          "output_type": "stream",
          "name": "stdout",
          "text": [
            "<class 'pandas.core.frame.DataFrame'>\n",
            "Int64Index: 300 entries, 0 to 99\n",
            "Data columns (total 3 columns):\n",
            " #   Column  Non-Null Count  Dtype \n",
            "---  ------  --------------  ----- \n",
            " 0   책제목     300 non-null    object\n",
            " 1   작가      300 non-null    object\n",
            " 2   출판일     300 non-null    object\n",
            "dtypes: object(3)\n",
            "memory usage: 9.4+ KB\n"
          ]
        }
      ]
    },
    {
      "cell_type": "code",
      "source": [
        "f_result.to_excel('book.xlsx', sheet_name='Sheet1')"
      ],
      "metadata": {
        "id": "rg5Oh5ffuOW_"
      },
      "execution_count": null,
      "outputs": []
    }
  ]
}