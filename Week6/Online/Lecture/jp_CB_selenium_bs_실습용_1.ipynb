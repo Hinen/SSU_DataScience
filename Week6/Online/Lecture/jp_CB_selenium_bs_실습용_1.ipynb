{
 "cells": [
  {
   "cell_type": "markdown",
   "id": "9fa35dc3",
   "metadata": {},
   "source": [
    "# 커피빈 매장 크롤링: Selenium + BS"
   ]
  },
  {
   "cell_type": "markdown",
   "id": "c5e04b47",
   "metadata": {},
   "source": [
    "- https://www.coffeebeankorea.com/store/store.asp"
   ]
  },
  {
   "cell_type": "markdown",
   "id": "0476d588",
   "metadata": {},
   "source": [
    "<b>Selenium</b>\n",
    "- find_element_by_css_selector\n",
    "- find_element_by_id\n",
    "- <b>page_source</b>\n",
    "- text\n",
    "- click( )\n",
    "- send_keys( )"
   ]
  },
  {
   "cell_type": "markdown",
   "id": "115bd4d2",
   "metadata": {},
   "source": [
    "<b>BeautifulSoup</b>\n",
    "- find()\n",
    "- find_all()\n",
    "- <b>select()</b>"
   ]
  },
  {
   "cell_type": "code",
   "execution_count": null,
   "id": "30b30b22",
   "metadata": {},
   "outputs": [],
   "source": [
    "from bs4 import BeautifulSoup\n",
    "import pandas as pd\n",
    "\n",
    "from selenium import webdriver\n",
    "import time\n",
    "\n",
    "import warnings\n",
    "\n",
    "warnings.filterwarnings(action ='ignore')"
   ]
  },
  {
   "cell_type": "code",
   "execution_count": null,
   "id": "fe12d6d9",
   "metadata": {},
   "outputs": [],
   "source": [
    "CoffeeBean_URL = \"https://www.coffeebeankorea.com/store/store.asp\"\n",
    "wd = webdriver.Chrome('chromedriver.exe')\n",
    "\n",
    "wd.get(CoffeeBean_URL)\n",
    "time.sleep(1)\n",
    "wd.execute_script(\"storePop2(1)\")\n",
    "time.sleep(1)"
   ]
  },
  {
   "cell_type": "code",
   "execution_count": null,
   "id": "1cacf6fd",
   "metadata": {},
   "outputs": [],
   "source": [
    "html = wd.page_source\n",
    "soup = BeautifulSoup(html, 'html.parser')"
   ]
  },
  {
   "cell_type": "markdown",
   "id": "0f4ddabe",
   "metadata": {},
   "source": [
    "![cb](img/cb_html.jpg)"
   ]
  },
  {
   "cell_type": "code",
   "execution_count": null,
   "id": "5cad6833",
   "metadata": {},
   "outputs": [],
   "source": [
    "store_name_h2 =\n",
    "store_name"
   ]
  },
  {
   "cell_type": "code",
   "execution_count": null,
   "id": "ee5e9a06",
   "metadata": {},
   "outputs": [],
   "source": [
    "store_info = \n",
    "store_info"
   ]
  },
  {
   "cell_type": "code",
   "execution_count": null,
   "id": "1fbcf5c6",
   "metadata": {},
   "outputs": [],
   "source": [
    "store_tel = \n",
    "store_tel"
   ]
  },
  {
   "cell_type": "code",
   "execution_count": null,
   "id": "df4df5fe",
   "metadata": {},
   "outputs": [],
   "source": [
    "store_address = \n",
    "store_address"
   ]
  },
  {
   "cell_type": "code",
   "execution_count": null,
   "id": "bffb5070",
   "metadata": {
    "scrolled": true
   },
   "outputs": [],
   "source": [
    "df_cb = pd.DataFrame({'매장이름':store_name, 'address':store_add_c, 'phone':store_tel}, index=[0])\n",
    "df_cb"
   ]
  }
 ],
 "metadata": {
  "kernelspec": {
   "display_name": "Python 3 (ipykernel)",
   "language": "python",
   "name": "python3"
  },
  "language_info": {
   "codemirror_mode": {
    "name": "ipython",
    "version": 3
   },
   "file_extension": ".py",
   "mimetype": "text/x-python",
   "name": "python",
   "nbconvert_exporter": "python",
   "pygments_lexer": "ipython3",
   "version": "3.7.13"
  }
 },
 "nbformat": 4,
 "nbformat_minor": 5
}
