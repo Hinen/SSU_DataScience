{
 "cells": [
  {
   "cell_type": "markdown",
   "id": "9fa35dc3",
   "metadata": {},
   "source": [
    "# 커피빈 매장 크롤링: Selenium"
   ]
  },
  {
   "cell_type": "markdown",
   "id": "c5e04b47",
   "metadata": {},
   "source": [
    "- https://www.coffeebeankorea.com/store/store.asp"
   ]
  },
  {
   "cell_type": "markdown",
   "id": "1590e573",
   "metadata": {},
   "source": [
    "Selenium\n",
    "- find_element_by_css_selector\n",
    "- find_element_by_id\n",
    "- page_source\n",
    "- text\n",
    "- click( )\n",
    "- send_keys( )"
   ]
  },
  {
   "cell_type": "code",
   "execution_count": 69,
   "id": "30b30b22",
   "metadata": {},
   "outputs": [],
   "source": [
    "#from bs4 import BeautifulSoup\n",
    "import pandas as pd\n",
    "from selenium import webdriver\n",
    "import time\n",
    "import warnings\n",
    "\n",
    "warnings.filterwarnings(action='ignore')"
   ]
  },
  {
   "cell_type": "code",
   "execution_count": 70,
   "id": "9103ee11",
   "metadata": {
    "scrolled": true
   },
   "outputs": [],
   "source": [
    "CoffeeBean_URL = \"https://www.coffeebeankorea.com/store/store.asp\"\n",
    "wd = webdriver.Chrome('chromedriver.exe')\n",
    "\n",
    "wd.get(CoffeeBean_URL)\n",
    "time.sleep(1)"
   ]
  },
  {
   "cell_type": "markdown",
   "id": "58d4eece",
   "metadata": {},
   "source": [
    "- execute_script()"
   ]
  },
  {
   "cell_type": "code",
   "execution_count": 78,
   "id": "bffb5070",
   "metadata": {
    "scrolled": true
   },
   "outputs": [
    {
     "data": {
      "text/html": [
       "<div>\n",
       "<style scoped>\n",
       "    .dataframe tbody tr th:only-of-type {\n",
       "        vertical-align: middle;\n",
       "    }\n",
       "\n",
       "    .dataframe tbody tr th {\n",
       "        vertical-align: top;\n",
       "    }\n",
       "\n",
       "    .dataframe thead th {\n",
       "        text-align: right;\n",
       "    }\n",
       "</style>\n",
       "<table border=\"1\" class=\"dataframe\">\n",
       "  <thead>\n",
       "    <tr style=\"text-align: right;\">\n",
       "      <th></th>\n",
       "      <th>매장이름</th>\n",
       "      <th>address</th>\n",
       "      <th>phone</th>\n",
       "    </tr>\n",
       "  </thead>\n",
       "  <tbody>\n",
       "    <tr>\n",
       "      <th>0</th>\n",
       "      <td>학동역 DT점</td>\n",
       "      <td>주소 서울시 강남구 학동로 211 1층\\n</td>\n",
       "      <td>02-3444-9973</td>\n",
       "    </tr>\n",
       "  </tbody>\n",
       "</table>\n",
       "</div>"
      ],
      "text/plain": [
       "      매장이름                  address         phone\n",
       "0  학동역 DT점  주소 서울시 강남구 학동로 211 1층\\n  02-3444-9973"
      ]
     },
     "execution_count": 78,
     "metadata": {},
     "output_type": "execute_result"
    }
   ],
   "source": [
    "df_cb = pd.DataFrame({'매장이름':store_name, 'address':store_add, 'phone':store_tel}, index=[0])\n",
    "df_cb"
   ]
  }
 ],
 "metadata": {
  "kernelspec": {
   "display_name": "Python 3 (ipykernel)",
   "language": "python",
   "name": "python3"
  },
  "language_info": {
   "codemirror_mode": {
    "name": "ipython",
    "version": 3
   },
   "file_extension": ".py",
   "mimetype": "text/x-python",
   "name": "python",
   "nbconvert_exporter": "python",
   "pygments_lexer": "ipython3",
   "version": "3.7.13"
  }
 },
 "nbformat": 4,
 "nbformat_minor": 5
}
