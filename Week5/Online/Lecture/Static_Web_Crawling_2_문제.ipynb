{
  "nbformat": 4,
  "nbformat_minor": 0,
  "metadata": {
    "colab": {
      "name": "Static_Web_Crawling_2_문제.ipynb",
      "provenance": [],
      "collapsed_sections": []
    },
    "kernelspec": {
      "name": "python3",
      "display_name": "Python 3"
    },
    "language_info": {
      "name": "python"
    }
  },
  "cells": [
    {
      "cell_type": "markdown",
      "source": [
        "## **정적 웹 페이지 크롤링**"
      ],
      "metadata": {
        "id": "f91PCnjbd7vg"
      }
    },
    {
      "cell_type": "markdown",
      "source": [
        "**Hollys Coffee 매장정보**"
      ],
      "metadata": {
        "id": "ZReiLm3sKY4F"
      }
    },
    {
      "cell_type": "code",
      "source": [
        "from bs4 import BeautifulSoup\n",
        "import urllib.request"
      ],
      "metadata": {
        "id": "QeK1mh_7WO4P"
      },
      "execution_count": null,
      "outputs": []
    },
    {
      "cell_type": "code",
      "source": [
        "Hollys_url = 'https://www.hollys.co.kr/store/korea/korStore.do?pageNo=1&sido=&gugun=&store='\n",
        "html_response = urllib.request.urlopen(Hollys_url)\n",
        "html=html_response.read()\n",
        "soupHollys = BeautifulSoup(html, 'html.parser')\n",
        "print(soupHollys.prettify())\n",
        "tag_tbody = soupHollys.find('tbody')\n",
        "tag_tr= tag_tbody.find_all('tr')\n",
        "tag_td= tag_tr[0].find_all('td')\n",
        "store_name = tag_td[1]\n",
        "store_address = tag_td[3]\n",
        "store_tel = tag_td[5]"
      ],
      "metadata": {
        "id": "8gLvzVfp0QHh"
      },
      "execution_count": null,
      "outputs": []
    },
    {
      "cell_type": "code",
      "source": [
        "import pandas as pd\n",
        "\n",
        "Hollys_dic = {'매장이름':store_name, '주소':store_address, '전화번호':store_tel}\n",
        "\n",
        "Hollys_store = pd.DataFrame(Hollys_dic)\n",
        "Hollys_store"
      ],
      "metadata": {
        "id": "5CtyB9yrfRrn"
      },
      "execution_count": null,
      "outputs": []
    }
  ]
}